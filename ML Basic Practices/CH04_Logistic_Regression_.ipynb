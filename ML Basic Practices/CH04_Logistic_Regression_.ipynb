{
  "nbformat": 4,
  "nbformat_minor": 0,
  "metadata": {
    "colab": {
      "name": "CH04 Logistic Regression .ipynb",
      "provenance": [],
      "collapsed_sections": []
    },
    "kernelspec": {
      "name": "python3",
      "display_name": "Python 3"
    },
    "language_info": {
      "name": "python"
    }
  },
  "cells": [
    {
      "cell_type": "markdown",
      "metadata": {
        "id": "8xhXB0nMzPMo"
      },
      "source": [
        "<h1> CH04 Logistic Regression</h1>\n",
        "\n",
        "- 2021.07,28\n",
        "- Machine Learning Seminar"
      ]
    },
    {
      "cell_type": "code",
      "metadata": {
        "colab": {
          "base_uri": "https://localhost:8080/",
          "height": 204
        },
        "id": "riw70kOwabDz",
        "outputId": "0f5508a8-abf8-4d01-d9ad-bab5bf42aae3"
      },
      "source": [
        "# csv 파일로 구성되어 있는 데이터프레임 가져오기\n",
        "\n",
        "import pandas as pd\n",
        "fish = pd.read_csv('https://bit.ly/fish_csv_data')\n",
        "fish.head() # 처음 5개 행 출력"
      ],
      "execution_count": null,
      "outputs": [
        {
          "output_type": "execute_result",
          "data": {
            "text/html": [
              "<div>\n",
              "<style scoped>\n",
              "    .dataframe tbody tr th:only-of-type {\n",
              "        vertical-align: middle;\n",
              "    }\n",
              "\n",
              "    .dataframe tbody tr th {\n",
              "        vertical-align: top;\n",
              "    }\n",
              "\n",
              "    .dataframe thead th {\n",
              "        text-align: right;\n",
              "    }\n",
              "</style>\n",
              "<table border=\"1\" class=\"dataframe\">\n",
              "  <thead>\n",
              "    <tr style=\"text-align: right;\">\n",
              "      <th></th>\n",
              "      <th>Species</th>\n",
              "      <th>Weight</th>\n",
              "      <th>Length</th>\n",
              "      <th>Diagonal</th>\n",
              "      <th>Height</th>\n",
              "      <th>Width</th>\n",
              "    </tr>\n",
              "  </thead>\n",
              "  <tbody>\n",
              "    <tr>\n",
              "      <th>0</th>\n",
              "      <td>Bream</td>\n",
              "      <td>242.0</td>\n",
              "      <td>25.4</td>\n",
              "      <td>30.0</td>\n",
              "      <td>11.5200</td>\n",
              "      <td>4.0200</td>\n",
              "    </tr>\n",
              "    <tr>\n",
              "      <th>1</th>\n",
              "      <td>Bream</td>\n",
              "      <td>290.0</td>\n",
              "      <td>26.3</td>\n",
              "      <td>31.2</td>\n",
              "      <td>12.4800</td>\n",
              "      <td>4.3056</td>\n",
              "    </tr>\n",
              "    <tr>\n",
              "      <th>2</th>\n",
              "      <td>Bream</td>\n",
              "      <td>340.0</td>\n",
              "      <td>26.5</td>\n",
              "      <td>31.1</td>\n",
              "      <td>12.3778</td>\n",
              "      <td>4.6961</td>\n",
              "    </tr>\n",
              "    <tr>\n",
              "      <th>3</th>\n",
              "      <td>Bream</td>\n",
              "      <td>363.0</td>\n",
              "      <td>29.0</td>\n",
              "      <td>33.5</td>\n",
              "      <td>12.7300</td>\n",
              "      <td>4.4555</td>\n",
              "    </tr>\n",
              "    <tr>\n",
              "      <th>4</th>\n",
              "      <td>Bream</td>\n",
              "      <td>430.0</td>\n",
              "      <td>29.0</td>\n",
              "      <td>34.0</td>\n",
              "      <td>12.4440</td>\n",
              "      <td>5.1340</td>\n",
              "    </tr>\n",
              "  </tbody>\n",
              "</table>\n",
              "</div>"
            ],
            "text/plain": [
              "  Species  Weight  Length  Diagonal   Height   Width\n",
              "0   Bream   242.0    25.4      30.0  11.5200  4.0200\n",
              "1   Bream   290.0    26.3      31.2  12.4800  4.3056\n",
              "2   Bream   340.0    26.5      31.1  12.3778  4.6961\n",
              "3   Bream   363.0    29.0      33.5  12.7300  4.4555\n",
              "4   Bream   430.0    29.0      34.0  12.4440  5.1340"
            ]
          },
          "metadata": {
            "tags": []
          },
          "execution_count": 1
        }
      ]
    },
    {
      "cell_type": "code",
      "metadata": {
        "colab": {
          "base_uri": "https://localhost:8080/"
        },
        "id": "iVS1w9ktbawE",
        "outputId": "4b735cef-7410-40b8-95fe-0618b316f60a"
      },
      "source": [
        "print(pd.unique(fish['Species'])) # 정렬 없이 Species 열에 등장한 고유의 값을 출력"
      ],
      "execution_count": null,
      "outputs": [
        {
          "output_type": "stream",
          "text": [
            "['Bream' 'Roach' 'Whitefish' 'Parkki' 'Perch' 'Pike' 'Smelt']\n"
          ],
          "name": "stdout"
        }
      ]
    },
    {
      "cell_type": "markdown",
      "metadata": {
        "id": "LAYL_Sksbrbs"
      },
      "source": [
        "<h3> Input 데이터 처리 </h3>"
      ]
    },
    {
      "cell_type": "code",
      "metadata": {
        "colab": {
          "base_uri": "https://localhost:8080/"
        },
        "id": "WdrOxl7HbwVU",
        "outputId": "2ae7bc48-9922-432d-e400-08df7531cde8"
      },
      "source": [
        "fish_input = fish[['Weight', 'Length', 'Diagonal', 'Height', 'Width']].to_numpy()\n",
        "print(fish_input[:5])"
      ],
      "execution_count": null,
      "outputs": [
        {
          "output_type": "stream",
          "text": [
            "[[242.      25.4     30.      11.52     4.02  ]\n",
            " [290.      26.3     31.2     12.48     4.3056]\n",
            " [340.      26.5     31.1     12.3778   4.6961]\n",
            " [363.      29.      33.5     12.73     4.4555]\n",
            " [430.      29.      34.      12.444    5.134 ]]\n"
          ],
          "name": "stdout"
        }
      ]
    },
    {
      "cell_type": "markdown",
      "metadata": {
        "id": "wymlWj8db-nr"
      },
      "source": [
        "<h3> Target 데이터 처리 </h3>"
      ]
    },
    {
      "cell_type": "code",
      "metadata": {
        "colab": {
          "base_uri": "https://localhost:8080/"
        },
        "id": "q7EvfmCscA0L",
        "outputId": "2d9bd288-8b8d-4976-c185-17240158a086"
      },
      "source": [
        "fish_target = fish['Species'].to_numpy()"
      ],
      "execution_count": null,
      "outputs": [
        {
          "output_type": "stream",
          "text": [
            "['Bream' 'Bream' 'Bream' 'Bream' 'Bream']\n"
          ],
          "name": "stdout"
        }
      ]
    },
    {
      "cell_type": "markdown",
      "metadata": {
        "id": "7cHE5ICFcHK7"
      },
      "source": [
        "<h3> 데이터 나누기 </h3>"
      ]
    },
    {
      "cell_type": "code",
      "metadata": {
        "id": "_iTVSnkYck4T"
      },
      "source": [
        "from sklearn.model_selection import train_test_split\n",
        "\n",
        "train_input, test_input, train_target, test_target = train_test_split(fish_input,fish_target,random_state = 42)\n",
        "\n"
      ],
      "execution_count": null,
      "outputs": []
    },
    {
      "cell_type": "markdown",
      "metadata": {
        "id": "FTtcpZS3cusc"
      },
      "source": [
        "<h3> 표준화(StandardScaler, MinMaxScaler) </h3>\n",
        "1. StandardScaler=(X-mean)/std \n",
        "2. MinMaxScaler=(X-Min)/(Max-Min)"
      ]
    },
    {
      "cell_type": "code",
      "metadata": {
        "id": "maWj7ia0cmSj"
      },
      "source": [
        "# 1. StandardScaler=(X-mean)/std\n",
        "\n",
        "from sklearn.preprocessing import StandardScaler\n",
        "ss=StandardScaler()\n",
        "ss.fit(train_input)\n",
        "train_scaled = ss.transform(train_input)\n",
        "test_scaled = ss.transform(test_input)\n",
        "\n",
        "# 2. MinMaxScaler=(X-Min)/(Max-Min)\n",
        "\n",
        "from sklearn.preprocessing import MinMaxScaler\n",
        "mm=MinMaxScaler()\n",
        "mm.fit(train_input)\n",
        "train_mscaled = mm.transform(train_input)\n",
        "test_mscaled = mm.transform(test_input)"
      ],
      "execution_count": null,
      "outputs": []
    },
    {
      "cell_type": "markdown",
      "metadata": {
        "id": "zHrOlblNcncL"
      },
      "source": [
        "1. StandardScaler를 사용한 데이터"
      ]
    },
    {
      "cell_type": "code",
      "metadata": {
        "colab": {
          "base_uri": "https://localhost:8080/"
        },
        "id": "tdhQt3kzcJZ0",
        "outputId": "7b484608-5095-48ee-9478-ea812cab09fc"
      },
      "source": [
        "from sklearn.neighbors import KNeighborsClassifier\n",
        "kn=KNeighborsClassifier(n_neighbors=3)\n",
        "kn.fit(train_scaled,train_target)\n",
        "print('Standard',kn.score(train_scaled,train_target))\n",
        "print('Standard',kn.score(test_scaled,test_target))\n"
      ],
      "execution_count": null,
      "outputs": [
        {
          "output_type": "stream",
          "text": [
            "Standard 0.8907563025210085\n",
            "Standard 0.85\n"
          ],
          "name": "stdout"
        }
      ]
    },
    {
      "cell_type": "markdown",
      "metadata": {
        "id": "cSSVh1YrdVhc"
      },
      "source": [
        "2. MinMaxScaler를 사용한 데이터"
      ]
    },
    {
      "cell_type": "code",
      "metadata": {
        "colab": {
          "base_uri": "https://localhost:8080/"
        },
        "id": "nwu9Ok4QdUed",
        "outputId": "779670ee-0f05-4bc8-a75a-4a044c41dfb8"
      },
      "source": [
        "from sklearn.neighbors import KNeighborsClassifier\n",
        "knm=KNeighborsClassifier(n_neighbors=3)\n",
        "knm.fit(train_mscaled,train_target)\n",
        "print('MinMax',knm.score(train_mscaled,train_target))\n",
        "print('MinMax',knm.score(test_mscaled,test_target))\n"
      ],
      "execution_count": null,
      "outputs": [
        {
          "output_type": "stream",
          "text": [
            "MinMax 0.8739495798319328\n",
            "MinMax 0.85\n"
          ],
          "name": "stdout"
        }
      ]
    },
    {
      "cell_type": "markdown",
      "metadata": {
        "id": "_KIQBpSseAYd"
      },
      "source": [
        "<h4> 알파벳 순으로 정렬 </h4>\n"
      ]
    },
    {
      "cell_type": "code",
      "metadata": {
        "colab": {
          "base_uri": "https://localhost:8080/"
        },
        "id": "VcIlbnjBeDKT",
        "outputId": "7fe42fe7-f739-42f9-a974-9e1a0b046bee"
      },
      "source": [
        "print(kn.classes_)\n",
        "print(knm.classes_)"
      ],
      "execution_count": null,
      "outputs": [
        {
          "output_type": "stream",
          "text": [
            "['Bream' 'Parkki' 'Perch' 'Pike' 'Roach' 'Smelt' 'Whitefish']\n",
            "['Bream' 'Parkki' 'Perch' 'Pike' 'Roach' 'Smelt' 'Whitefish']\n"
          ],
          "name": "stdout"
        }
      ]
    },
    {
      "cell_type": "code",
      "metadata": {
        "colab": {
          "base_uri": "https://localhost:8080/"
        },
        "id": "qwlMzh7NeLB7",
        "outputId": "bb5909f4-62ee-4a7c-c94b-6a99930b1d4a"
      },
      "source": [
        "# 문자열 타깃값으로 된 다중분류에서 predict()는 문자열로 반환\n",
        "\n",
        "print('Standard',kn.predict(test_scaled[:5]))\n",
        "print('MinMax',knm.predict(test_mscaled[:5]))"
      ],
      "execution_count": null,
      "outputs": [
        {
          "output_type": "stream",
          "text": [
            "Standard ['Perch' 'Smelt' 'Pike' 'Perch' 'Perch']\n",
            "MinMax ['Perch' 'Smelt' 'Pike' 'Perch' 'Perch']\n"
          ],
          "name": "stdout"
        }
      ]
    },
    {
      "cell_type": "markdown",
      "metadata": {
        "id": "CL9PX-HWeRXL"
      },
      "source": [
        "<h2> 예측이 되는 과정 -> 확률의 모습 preidct_proba() 사용 </h2>"
      ]
    },
    {
      "cell_type": "code",
      "metadata": {
        "colab": {
          "base_uri": "https://localhost:8080/"
        },
        "id": "GQJHODSfeVoc",
        "outputId": "d0e7af33-528f-496d-8ab5-7119f76fde20"
      },
      "source": [
        "import numpy as np\n",
        "proba = kn.predict_proba(test_scaled[:5])\n",
        "probam = knm.predict_proba(test_mscaled[:5])\n",
        "print('Standard',np.round(proba,decimals=4)) # 소수점 4번째 자리까지 표기 (5번째 자리에서 반올림) \n",
        "print('MinMax',np.round(probam,decimals=4))\n",
        "\n",
        "# 3개에 대한 확률값 \n",
        "# 0/3, 1/3, 2/3, 3/3"
      ],
      "execution_count": null,
      "outputs": [
        {
          "output_type": "stream",
          "text": [
            "Standard [[0.     0.     1.     0.     0.     0.     0.    ]\n",
            " [0.     0.     0.     0.     0.     1.     0.    ]\n",
            " [0.     0.     0.     1.     0.     0.     0.    ]\n",
            " [0.     0.     0.6667 0.     0.3333 0.     0.    ]\n",
            " [0.     0.     0.6667 0.     0.3333 0.     0.    ]]\n",
            "MinMax [[0.     0.     1.     0.     0.     0.     0.    ]\n",
            " [0.     0.     0.     0.     0.     1.     0.    ]\n",
            " [0.     0.     0.     1.     0.     0.     0.    ]\n",
            " [0.     0.     0.6667 0.     0.3333 0.     0.    ]\n",
            " [0.     0.     0.6667 0.     0.3333 0.     0.    ]]\n"
          ],
          "name": "stdout"
        }
      ]
    },
    {
      "cell_type": "code",
      "metadata": {
        "colab": {
          "base_uri": "https://localhost:8080/"
        },
        "id": "5xrmvd7efWc8",
        "outputId": "af0e42ad-e072-4237-82cf-1580b0273108"
      },
      "source": [
        "distances, indexes = kn.kneighbors(test_scaled[3:4])\n",
        "print(train_target[indexes])\n",
        "\n"
      ],
      "execution_count": null,
      "outputs": [
        {
          "output_type": "stream",
          "text": [
            "[['Roach' 'Perch' 'Perch']]\n"
          ],
          "name": "stdout"
        }
      ]
    },
    {
      "cell_type": "markdown",
      "metadata": {
        "id": "Fai6iHR_iAWU"
      },
      "source": [
        "<br><br><br>\n",
        "\n",
        "\n",
        "<h1> 로지스틱 회귀 (Logistic Regression) </h1>\n",
        "\n",
        "- 분류 모델\n",
        "- 시그모이드 함수(Sigmoid Function, Logistic Function)\n"
      ]
    },
    {
      "cell_type": "code",
      "metadata": {
        "colab": {
          "base_uri": "https://localhost:8080/",
          "height": 279
        },
        "id": "8cCAT9ngiQDK",
        "outputId": "6c98d6d1-8155-435b-be65-c30a324c2d94"
      },
      "source": [
        "import numpy as np\n",
        "import matplotlib.pyplot as plt\n",
        "z=np.arange(-5,5,0.1)\n",
        "phi = 1/(1+np.exp(-z)) # 시그모이드 함수\n",
        "plt.plot(z,phi)\n",
        "plt.xlabel('z')\n",
        "plt.ylabel('phi')\n",
        "plt.show()\n",
        "\n"
      ],
      "execution_count": null,
      "outputs": [
        {
          "output_type": "display_data",
          "data": {
            "image/png": "[encoded data removed]",
            "text/plain": [
              "<Figure size 432x288 with 1 Axes>"
            ]
          },
          "metadata": {
            "tags": [],
            "needs_background": "light"
          }
        }
      ]
    },
    {
      "cell_type": "markdown",
      "metadata": {
        "id": "CyY-TumfilwT"
      },
      "source": [
        "<h3> 이진 분류 (Bream과 Smelt) </h3>\n",
        "\n",
        "- Boolean Indexing: 넘파이 배열이 TRUE, FALSE 값을 전달하여 행 선택\n"
      ]
    },
    {
      "cell_type": "code",
      "metadata": {
        "colab": {
          "base_uri": "https://localhost:8080/"
        },
        "id": "ZsgQpK2Ui_oD",
        "outputId": "81e2b533-3c73-42f6-e037-ba936b8a0647"
      },
      "source": [
        "bream_smelt_indexes = (train_target =='Bream')|(train_target=='Smelt') \n",
        "train_bream_smelt = train_scaled[bream_smelt_indexes]\n",
        "test_bream_smelt = train_target[bream_smelt_indexes]\n",
        "\n",
        "from sklearn.linear_model import LogisticRegression\n",
        "lr = LogisticRegression()\n",
        "lr.fit(train_bream_smelt,test_bream_smelt)\n",
        "print(lr.predict(train_bream_smelt[:5]))\n",
        "\n",
        "print(lr.predict_proba(train_bream_smelt[:5]))\n",
        "print(lr.classes_)\n",
        "\n"
      ],
      "execution_count": null,
      "outputs": [
        {
          "output_type": "stream",
          "text": [
            "['Bream' 'Smelt' 'Bream' 'Bream' 'Bream']\n",
            "[[0.99759855 0.00240145]\n",
            " [0.02735183 0.97264817]\n",
            " [0.99486072 0.00513928]\n",
            " [0.98584202 0.01415798]\n",
            " [0.99767269 0.00232731]]\n",
            "['Bream' 'Smelt']\n"
          ],
          "name": "stdout"
        }
      ]
    },
    {
      "cell_type": "markdown",
      "metadata": {
        "id": "aOuR9641jzxT"
      },
      "source": [
        "<br><br>\n",
        "<h3> 가중치(a,b,c,d,e), bias(f) 확인 </h3>\n"
      ]
    },
    {
      "cell_type": "code",
      "metadata": {
        "colab": {
          "base_uri": "https://localhost:8080/"
        },
        "id": "nzfytLnej2fB",
        "outputId": "b1820c5d-f466-4ba7-fca3-059ca750787a"
      },
      "source": [
        "print(lr.coef_, lr.intercept_)\n",
        "\n"
      ],
      "execution_count": null,
      "outputs": [
        {
          "output_type": "stream",
          "text": [
            "[[-0.4037798  -0.57620209 -0.66280298 -1.01290277 -0.73168947]] [-2.16155132]\n"
          ],
          "name": "stdout"
        }
      ]
    },
    {
      "cell_type": "markdown",
      "metadata": {
        "id": "fT0IXEoSj8ga"
      },
      "source": [
        "<h3> z값 출력 </h3>\n",
        "\n",
        "- z값이 음수인 데이터(2번째)만 Smelt로 분류된다."
      ]
    },
    {
      "cell_type": "code",
      "metadata": {
        "colab": {
          "base_uri": "https://localhost:8080/"
        },
        "id": "5yYLmRQpj7yq",
        "outputId": "816363c4-200d-425b-e2eb-252aef9f6d6e"
      },
      "source": [
        "decision = lr.decision_function(train_bream_smelt[:5])\n",
        "print(decision)\n",
        "\n"
      ],
      "execution_count": null,
      "outputs": [
        {
          "output_type": "stream",
          "text": [
            "[[ 13.07720468   5.67934885  -3.35338245  -3.31336574   2.17359359\n",
            "  -20.94250286   6.67910394]\n",
            " [-11.87097228   2.30259128   5.38252609  -3.16153247   3.19008966\n",
            "    8.30335235  -4.14605462]\n",
            " [ 12.33857825   5.65076255  -4.66937699  -2.14614218   1.70355215\n",
            "  -17.3821562    4.50478241]\n",
            " [ 10.54147804   6.10966909  -4.8118551   -2.96232184   2.29026273\n",
            "  -14.96397114   3.79673822]\n",
            " [ 13.67847569   5.73147515  -4.25488176  -2.55078686   1.73520683\n",
            "  -20.24819553   5.90870648]]\n"
          ],
          "name": "stdout"
        }
      ]
    },
    {
      "cell_type": "markdown",
      "metadata": {
        "id": "uHjh7hHOkUQz"
      },
      "source": [
        "<h3> 0~1값인 확률로 나타내기 (시그모이드 함수 이용) </h3>\n",
        "\n",
        "- 0.5가 넘으면 양성 클래스(Smelt)\n",
        "\n"
      ]
    },
    {
      "cell_type": "code",
      "metadata": {
        "colab": {
          "base_uri": "https://localhost:8080/"
        },
        "id": "wBXkeSUmkZ9a",
        "outputId": "2f455b59-8e3c-4932-cbda-4f2c03c95f16"
      },
      "source": [
        "from scipy.special import expit\n",
        "print(expit(decision))"
      ],
      "execution_count": null,
      "outputs": [
        {
          "output_type": "stream",
          "text": [
            "[0.00240145 0.97264817 0.00513928 0.01415798 0.00232731]\n"
          ],
          "name": "stdout"
        }
      ]
    },
    {
      "cell_type": "markdown",
      "metadata": {
        "id": "clCWnDhIkkti"
      },
      "source": [
        ""
      ]
    },
    {
      "cell_type": "markdown",
      "metadata": {
        "id": "nQt4CjsUkkuT"
      },
      "source": [
        "<br><br><br>\n",
        "\n",
        "\n",
        "<h1> 로지스틱 회귀를 이용한 다중 분류  </h1>"
      ]
    },
    {
      "cell_type": "code",
      "metadata": {
        "colab": {
          "base_uri": "https://localhost:8080/"
        },
        "id": "d-4hLIr0kuuq",
        "outputId": "e6aadc6d-e53b-46b7-b5c8-141fdabeba64"
      },
      "source": [
        "# 로지스틱 회귀로 다중 분류(7개의 생선 분류) -> max_iter(반복 학습):1000, C(규제) : 20 \n",
        "\n",
        "# max_iter: 반복 학습 (충분히 높은 값을 주어야 함)\n",
        "# C : 규제\n",
        "\n",
        "\n",
        "# lr = LogisticRegression(C=5, max_iter = 100) \n",
        "lr = LogisticRegression(C=20, max_iter = 1000) \n",
        "lr.fit(train_scaled,train_target)\n",
        "print(lr.score(train_scaled, train_target))\n",
        "print(lr.score(test_scaled,test_target))\n",
        "print()\n",
        "\n",
        "# 예측\n",
        "print(lr.predict(test_scaled[:5]))\n",
        "print()\n",
        "\n",
        "# 확률\n",
        "# 각 물고기 종류에 따른 확률값 출력(7개 중에 가장 확률이 높은 것에 해당하는 종류로 예측하게 됨)\n",
        "# 전체 확률의 합은 1\n",
        "\n",
        "proba = lr.predict_proba(test_scaled[:5])\n",
        "print(np.round(proba,decimals=3))"
      ],
      "execution_count": null,
      "outputs": [
        {
          "output_type": "stream",
          "text": [
            "0.9327731092436975\n",
            "0.925\n",
            "\n",
            "['Perch' 'Smelt' 'Pike' 'Roach' 'Perch']\n",
            "\n",
            "[[0.    0.014 0.841 0.    0.136 0.007 0.003]\n",
            " [0.    0.003 0.044 0.    0.007 0.946 0.   ]\n",
            " [0.    0.    0.034 0.935 0.015 0.016 0.   ]\n",
            " [0.011 0.034 0.306 0.007 0.567 0.    0.076]\n",
            " [0.    0.    0.904 0.002 0.089 0.002 0.001]]\n"
          ],
          "name": "stdout"
        }
      ]
    },
    {
      "cell_type": "markdown",
      "metadata": {
        "id": "KJO5yUxDl3m6"
      },
      "source": [
        "<br><br>\n",
        "\n",
        "<h3> 이진 분류와 다중 분류의 차이점 </h3>\n",
        "\n",
        "\n",
        "- 이진 분류에서는 z값을 구하는 2차원 배열의 행이 1개이지만, 다중 분류에서는 힁애 개수가 7개\n",
        "- 다중 분류에서는 각각의 클래스마다 z를 계산 -> z값이 가장 큰 값이 예측 클래스가 됨 (각 7개의 물고기에 따라 회귀 식(각 z값에 따른 함수)이 생성)\n",
        "\n",
        "- 다중 분류에서는 **소프트맥스 함수**를 사용\n",
        "  - n개 생선에 대한 확률의 합이 1이 되도록 \n",
        "  - 각 종류에 대해 가중치, bias로 이루어진 방정식을 사용하여 각 종류마다 이진 분류를 한 결과를 다중 분류로 하는 방식"
      ]
    },
    {
      "cell_type": "code",
      "metadata": {
        "colab": {
          "base_uri": "https://localhost:8080/"
        },
        "id": "5Y2BJ9Aql63B",
        "outputId": "e4e261ca-2c1f-432e-cb5a-ecf1154af2f6"
      },
      "source": [
        "print(lr.coef_.shape,lr.intercept_.shape)\n",
        "\n"
      ],
      "execution_count": null,
      "outputs": [
        {
          "output_type": "stream",
          "text": [
            "(7, 5) (7,)\n"
          ],
          "name": "stdout"
        }
      ]
    },
    {
      "cell_type": "markdown",
      "metadata": {
        "id": "zzPOrcXUnUgb"
      },
      "source": [
        "<br>\n",
        "\n",
        "<h4> 다중 분류의 z값(z1~z7) </h4>"
      ]
    },
    {
      "cell_type": "code",
      "metadata": {
        "colab": {
          "base_uri": "https://localhost:8080/"
        },
        "id": "Dx5P7KjjnZbS",
        "outputId": "cc748e37-ab85-4530-f8d0-7381dab9a2d4"
      },
      "source": [
        "decision = lr.decision_function(test_scaled[:5])\n",
        "print(np.round(decision, decimals=2))"
      ],
      "execution_count": null,
      "outputs": [
        {
          "output_type": "stream",
          "text": [
            "[[ -6.5    1.03   5.16  -2.73   3.34   0.33  -0.63]\n",
            " [-10.86   1.93   4.77  -2.4    2.98   7.84  -4.26]\n",
            " [ -4.34  -6.23   3.17   6.49   2.36   2.42  -3.87]\n",
            " [ -0.68   0.45   2.65  -1.19   3.26  -5.75   1.26]\n",
            " [ -6.4   -1.99   5.82  -0.11   3.5   -0.11  -0.71]]\n"
          ],
          "name": "stdout"
        }
      ]
    },
    {
      "cell_type": "markdown",
      "metadata": {
        "id": "x9akkcjeoZYT"
      },
      "source": [
        "<br>\n",
        "\n",
        "<h3> 확률로 나타내기 </h3>\n"
      ]
    },
    {
      "cell_type": "code",
      "metadata": {
        "colab": {
          "base_uri": "https://localhost:8080/"
        },
        "id": "2s2pC5i3obcg",
        "outputId": "90e52804-b4cf-44e5-e4aa-2fa107d1310b"
      },
      "source": [
        "from scipy.special import softmax\n",
        "proba = softmax(decision, axis=1)\n",
        "# proba = softmax(decision)\n",
        "print(np.round(proba,decimals=3))\n",
        "\n",
        "# 한 행에 대한 확률 값들의 합이 1, 그리고 가장 큰 확률값을 가진 종류로 예측 가능"
      ],
      "execution_count": null,
      "outputs": [
        {
          "output_type": "stream",
          "text": [
            "[[0.    0.001 0.044 0.    0.007 0.    0.   ]\n",
            " [0.    0.002 0.029 0.    0.005 0.633 0.   ]\n",
            " [0.    0.    0.006 0.163 0.003 0.003 0.   ]\n",
            " [0.    0.    0.004 0.    0.007 0.    0.001]\n",
            " [0.    0.    0.084 0.    0.008 0.    0.   ]]\n"
          ],
          "name": "stdout"
        }
      ]
    },
    {
      "cell_type": "markdown",
      "metadata": {
        "id": "28KEU8LDqBuK"
      },
      "source": [
        "<br><br>\n",
        "\n",
        "---\n",
        "\n",
        "<br>\n",
        "\n",
        "<h1> 점진적인 학습 알고리즘 </h1>\n",
        "\n",
        "- 빅데이터 -> 데이터가 많아질 수록 학습 시간이 많이 소요되며, 새로운 데이터를 추가하는 경우 데이터 관리에 대한 문제(기존 데이터 관리, 새로운 데이터에 대한 편협성 문제) 등 고려해야할 것들이 많다.\n",
        "\n",
        "- 데이터 중, 일부만을 골라 학습시키는 과정 (Sampling)\n",
        "\n",
        "\n",
        "<br>\n",
        "\n",
        "<h1> 확률적 경사 하강법 SDG(Stochastic Gradient Descent)  </h1>\n",
        "\n",
        "- stochastic: 샘플링(randomly determined; having a random probability distribution or pattern that may be analyzed statistically but may not be predicted precisely.)\n",
        "\n",
        "<br>\n",
        "\n",
        "<h3> 손실 함수 (loss function) </h3>\n",
        "\n",
        "- 샘플 하나에 대한 손실 값\n",
        "- 비용 함수 (cost function) : 훈련 세트에 있는 모든 샘플에 대한 손실의 합\n",
        "- ex) 분류에서의 손실 -> 값을 맞추지 못하는 것(오답)\n",
        "\n",
        "<br>\n",
        "\n",
        "<h4> 로지스틱 손실 함수 (logistic loss function) / 이진 크로스엔트로피 손실 함수 (binary coross-entropy loss function) </h4>\n",
        "\n",
        "\n"
      ]
    },
    {
      "cell_type": "markdown",
      "metadata": {
        "id": "1xSfZRrEwdSp"
      },
      "source": [
        "<h2> SDGClassfier </h2>\n",
        "\n"
      ]
    },
    {
      "cell_type": "code",
      "metadata": {
        "colab": {
          "base_uri": "https://localhost:8080/"
        },
        "id": "Pnx4jH9iwg8n",
        "outputId": "5911995b-ec10-4946-aaa8-4299afe882cf"
      },
      "source": [
        "import pandas as pd\n",
        "fish = pd.read_csv(\"https://bit.ly/fish_csv_data\")\n",
        "fish_input = fish[['Weight','Length','Diagonal','Height','Width']].to_numpy()\n",
        "fish_target = fish['Species'].to_numpy()\n",
        "\n",
        "from sklearn.model_selection import train_test_split\n",
        "train_input, test_input, train_target, test_target = train_test_split(fish_input,fish_target, random_state=42)\n",
        "\n",
        "from sklearn.preprocessing import StandardScaler\n",
        "ss=StandardScaler()\n",
        "ss.fit(train_input)\n",
        "train_scaled = ss.transform(train_input)\n",
        "test_scaled = ss.transform(test_input)\n",
        "\n",
        "\n",
        "\n",
        "# SDGClassifier 확률적 경사 하강법 제공 하는 대표 클래스\n",
        "\n",
        "from sklearn.linear_model import SGDClassifier\n",
        "sc = SGDClassifier(loss='log', max_iter=10, random_state=42) # loss='log' : 로지스틱 손실함수로 지정 / max_iter=10 : 에포크를 10번\n",
        "sc.fit(train_scaled,train_target)\n",
        "print(sc.score(train_scaled,train_target))\n",
        "print(sc.score(test_scaled,test_target))\n",
        "\n",
        "\n",
        "\n",
        "# ConvergenceWarning - 모델이 충분히 수렴하지 않았다는 것 => 점진적 학습 필요\n",
        "\n"
      ],
      "execution_count": null,
      "outputs": [
        {
          "output_type": "stream",
          "text": [
            "0.773109243697479\n",
            "0.775\n"
          ],
          "name": "stdout"
        },
        {
          "output_type": "stream",
          "text": [
            "/usr/local/lib/python3.7/dist-packages/sklearn/linear_model/_stochastic_gradient.py:557: ConvergenceWarning: Maximum number of iteration reached before convergence. Consider increasing max_iter to improve the fit.\n",
            "  ConvergenceWarning)\n"
          ],
          "name": "stderr"
        }
      ]
    },
    {
      "cell_type": "markdown",
      "metadata": {
        "id": "hgzZTlbTxE_P"
      },
      "source": [
        "<h3> 점진적 학습 : partial_fit() </h3>\n",
        "\n",
        "- 에포크 횟수가 적다면? -> 과소적합이 될 가능성이 큼\n",
        "- 많다면? -> 과대적합이 될 가능성이 큼\n",
        "  => 과대적합이 시작하기 전에 훈련을 멈춰야 함 (**조기 종료**)\n",
        "  "
      ]
    },
    {
      "cell_type": "code",
      "metadata": {
        "colab": {
          "base_uri": "https://localhost:8080/"
        },
        "id": "KuP3O7Ghw92I",
        "outputId": "10714cfd-4bb1-47ce-ddaf-fdaa7d772c89"
      },
      "source": [
        "sc.partial_fit(train_scaled,train_target) # 점진적 학습(호출 할 때마다 1에포크씩 이어서 훈련)\n",
        "print(sc.score(train_scaled,train_target))\n",
        "print(sc.score(test_scaled,test_target))\n",
        "\n"
      ],
      "execution_count": null,
      "outputs": [
        {
          "output_type": "stream",
          "text": [
            "0.8151260504201681\n",
            "0.825\n"
          ],
          "name": "stdout"
        }
      ]
    },
    {
      "cell_type": "markdown",
      "metadata": {
        "id": "aXKDw1XoxVNq"
      },
      "source": [
        "<h3> 그래프로 표현 </h3>\n",
        "\n"
      ]
    },
    {
      "cell_type": "code",
      "metadata": {
        "colab": {
          "base_uri": "https://localhost:8080/",
          "height": 279
        },
        "id": "efff0AMrxYXQ",
        "outputId": "8d573269-de6c-476c-8e55-883c73ba9e75"
      },
      "source": [
        "# 그래프로 표현 하기 전 train_score, test_score에 score 값 저장하기\n",
        "\n",
        "import numpy as np\n",
        "sc = SGDClassifier(loss='log',random_state=42)\n",
        "train_score = []\n",
        "test_score = []\n",
        "classes = np.unique(train_target)\n",
        "\n",
        "for _ in range(0,300):\n",
        "  sc.partial_fit(train_scaled,train_target,classes=classes)\n",
        "  train_score.append(sc.score(train_scaled,train_target))\n",
        "  test_score.append(sc.score(test_scaled,test_target))\n",
        "\n",
        "# partial_fit() 만 사용하는 경우, classes를 지정해주어야함\n",
        "\n",
        "# 그래프로 나타내기\n",
        "\n",
        "import matplotlib.pyplot as plt\n",
        "plt.plot(train_score)\n",
        "plt.plot(test_score)\n",
        "plt.xlabel('epoch')\n",
        "plt.ylabel('accuracy')\n",
        "plt.show()"
      ],
      "execution_count": null,
      "outputs": [
        {
          "output_type": "display_data",
          "data": {
            "image/png": "[encoded data removed]",
            "text/plain": [
              "<Figure size 432x288 with 1 Axes>"
            ]
          },
          "metadata": {
            "tags": [],
            "needs_background": "light"
          }
        }
      ]
    },
    {
      "cell_type": "markdown",
      "metadata": {
        "id": "buDS42Ocx4hB"
      },
      "source": [
        "최적의 에포크(max_iter=100)를 지정\n"
      ]
    },
    {
      "cell_type": "code",
      "metadata": {
        "colab": {
          "base_uri": "https://localhost:8080/"
        },
        "id": "eECJekoFybqo",
        "outputId": "e77803d5-46fd-4413-b2c5-76f22f14f2fb"
      },
      "source": [
        "sc = SGDClassifier(loss='log',max_iter=100,tol=None,random_state=42)\n",
        "sc.fit(train_scaled,train_target)\n",
        "print(sc.score(train_scaled,train_target))\n",
        "print(sc.score(test_scaled,test_target))\n",
        "\n"
      ],
      "execution_count": null,
      "outputs": [
        {
          "output_type": "stream",
          "text": [
            "0.957983193277311\n",
            "0.925\n"
          ],
          "name": "stdout"
        }
      ]
    }
  ]
}