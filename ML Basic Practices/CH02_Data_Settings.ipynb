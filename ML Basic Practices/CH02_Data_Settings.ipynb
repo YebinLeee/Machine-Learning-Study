{
  "nbformat": 4,
  "nbformat_minor": 0,
  "metadata": {
    "colab": {
      "name": "CH02 Data.ipynb",
      "provenance": [],
      "collapsed_sections": []
    },
    "kernelspec": {
      "name": "python3",
      "display_name": "Python 3"
    },
    "language_info": {
      "name": "python"
    }
  },
  "cells": [
    {
      "cell_type": "code",
      "metadata": {
        "id": "WQq2GDPyYJqL"
      },
      "source": [
        "fish_length = [25.4, 26.3, 26.5, 29.0, 29.0, 29.7, 29.7, 30.0, 30.0, 30.7, 31.0, 31.0, 31.5, 32.0, 32.0, 32.0, 33.0, 33.0, 33.5, 33.5, 34.0, 34.0, 34.5, 35.0, 35.0, 35.0, 35.0, 36.0, 36.0, 37.0, 38.5, 38.5, 39.5, 41.0, 41.0, 9.8, 10.5, 10.6, 11.0, 11.2, 11.3, 11.8, 11.8, 12.0, 12.2, 12.4, 13.0, 14.3, 15.0]\n",
        "fish_weight = [242.0, 290.0, 340.0, 363.0, 430.0, 450.0, 500.0, 390.0, 450.0, 500.0, 475.0, 500.0, 500.0, 340.0, 600.0, 600.0, 700.0, 700.0, 610.0, 650.0, 575.0, 685.0, 620.0, 680.0, 700.0, 725.0, 720.0, 714.0, 850.0, 1000.0, 920.0, 955.0, 925.0, 975.0, 950.0, 6.7, 7.5, 7.0, 9.7, 9.8, 8.7, 10.0, 9.9, 9.8, 12.2, 13.4, 12.2, 19.7, 19.9]\n",
        "fish_data = [[l,w] for l, w in zip(fish_length, fish_weight)]\n",
        "fish_target = [1]*35 + [0]*14\n",
        "\n"
      ],
      "execution_count": null,
      "outputs": []
    },
    {
      "cell_type": "markdown",
      "metadata": {
        "id": "HbeFPQjWgrxh"
      },
      "source": [
        "define dataset\n"
      ]
    },
    {
      "cell_type": "code",
      "metadata": {
        "id": "X04siLMEgwKv"
      },
      "source": [
        "train_input = fish_data[:35]\n",
        "train_target = fish_target[:35]\n",
        "test_input = fish_data[35:]\n",
        "test_target = fish_target[35:]\n"
      ],
      "execution_count": null,
      "outputs": []
    },
    {
      "cell_type": "code",
      "metadata": {
        "colab": {
          "base_uri": "https://localhost:8080/"
        },
        "id": "ZxjXNNm1gyfP",
        "outputId": "699108ad-f3ae-4f0a-cba1-ee93adb5714b"
      },
      "source": [
        "train_input = fish_data[:35]\n",
        "train_target = fish_target[:35]\n",
        "test_input = fish_data[35:]\n",
        "test_target = fish_target[35:]\n",
        "\n",
        "from sklearn.neighbors import KNeighborsClassifier\n",
        "kn = KNeighborsClassifier()\n",
        "kn = kn.fit(train_input, train_target)\n",
        "kn.score(test_input, test_target)\n"
      ],
      "execution_count": null,
      "outputs": [
        {
          "output_type": "execute_result",
          "data": {
            "text/plain": [
              "0.0"
            ]
          },
          "metadata": {
            "tags": []
          },
          "execution_count": 13
        }
      ]
    },
    {
      "cell_type": "markdown",
      "metadata": {
        "id": "5MAu3PWjh3y5"
      },
      "source": [
        "0의 결과값으로 빙어를 예측하게 됨 -> "
      ]
    },
    {
      "cell_type": "code",
      "metadata": {
        "id": "nqSVjKmLj51g"
      },
      "source": [
        ""
      ],
      "execution_count": null,
      "outputs": []
    },
    {
      "cell_type": "code",
      "metadata": {
        "id": "zMJvdis_g1QH"
      },
      "source": [
        "fish_data = [[l,w] for l, w in zip(fish_length, fish_weight)]\n",
        "fish_target = [1]*35 + [0]*14\n"
      ],
      "execution_count": null,
      "outputs": []
    },
    {
      "cell_type": "code",
      "metadata": {
        "colab": {
          "base_uri": "https://localhost:8080/"
        },
        "id": "Ppyjfg1Jg3dO",
        "outputId": "5ce89e87-20e6-449e-cae5-1315da34ba0a"
      },
      "source": [
        "import random\n",
        "random.seed(42)\n",
        "index = []\n",
        "for i in range(49):\n",
        "  index.append(i)\n",
        "random.shuffle(index)\n",
        "print(index)\n"
      ],
      "execution_count": null,
      "outputs": [
        {
          "output_type": "stream",
          "text": [
            "[25, 23, 19, 11, 4, 44, 26, 9, 29, 16, 31, 21, 12, 3, 36, 38, 10, 24, 48, 0, 42, 18, 32, 47, 33, 30, 28, 20, 22, 41, 45, 35, 43, 13, 39, 46, 2, 27, 37, 5, 34, 6, 8, 14, 15, 17, 1, 7, 40]\n"
          ],
          "name": "stdout"
        }
      ]
    },
    {
      "cell_type": "code",
      "metadata": {
        "colab": {
          "base_uri": "https://localhost:8080/"
        },
        "id": "h77XEks-g7uB",
        "outputId": "b6573cd4-d40e-4eaa-ac1c-d2ad3cd7b310"
      },
      "source": [
        "tmp = []\n",
        "for i in range(35):\n",
        "  tmp.append(fish_data[index[i]])\n",
        "print(tmp)\n"
      ],
      "execution_count": null,
      "outputs": [
        {
          "output_type": "stream",
          "text": [
            "[[35.0, 725.0], [35.0, 680.0], [33.5, 650.0], [31.0, 500.0], [29.0, 430.0], [12.2, 12.2], [35.0, 720.0], [30.7, 500.0], [37.0, 1000.0], [33.0, 700.0], [38.5, 955.0], [34.0, 685.0], [31.5, 500.0], [29.0, 363.0], [10.5, 7.5], [11.0, 9.7], [31.0, 475.0], [35.0, 700.0], [15.0, 19.9], [25.4, 242.0], [11.8, 9.9], [33.5, 610.0], [39.5, 925.0], [14.3, 19.7], [41.0, 975.0], [38.5, 920.0], [36.0, 850.0], [34.0, 575.0], [34.5, 620.0], [11.8, 10.0], [12.4, 13.4], [9.8, 6.7], [12.0, 9.8], [32.0, 340.0], [11.2, 9.8]]\n"
          ],
          "name": "stdout"
        }
      ]
    },
    {
      "cell_type": "markdown",
      "metadata": {
        "id": "OXL0inCjg-hn"
      },
      "source": [
        ""
      ]
    },
    {
      "cell_type": "code",
      "metadata": {
        "id": "C3_mXQMDg-0v"
      },
      "source": [
        "import numpy as np\n",
        "np.random.seed(42)\n",
        "index = np.arange(49)\n",
        "np.random.shuffle(index)\n",
        "input_arr = np.array(fish_data)\n",
        "train_input = input_arr[index[:35]]\n",
        "\n"
      ],
      "execution_count": null,
      "outputs": []
    },
    {
      "cell_type": "code",
      "metadata": {
        "colab": {
          "base_uri": "https://localhost:8080/",
          "height": 872
        },
        "id": "mOD4kyEHhNgQ",
        "outputId": "cc6a7612-b577-4115-e343-1a878bfbffb4"
      },
      "source": [
        "input_arr = np.array(fish_data)\n",
        "target_arr = np.array(fish_target)\n",
        "train_input = input_arr[index[:35]]\n",
        "train_target = target_arr[index[:35]]\n",
        "test_input = input_arr[index[35:]]\n",
        "test_target = target_arr[index[35:]]\n",
        "import matplotlib.pyplot as plt\n",
        "plt.figure(figsize=(10, 10))\n",
        "plt.scatter(train_input[:,0], train_input[:,1])\n",
        "plt.scatter(test_input[:,0], test_input[:,1])\n",
        "plt.xlabel('length')\n",
        "plt.ylabel('weight')\n",
        "plt.show()\n",
        "\n",
        "\n",
        "plt.scatter(train_input[:,0], train_input[:,1])\n",
        "plt.scatter(test_input[:,0], test_input[:,1])\n"
      ],
      "execution_count": null,
      "outputs": [
        {
          "output_type": "display_data",
          "data": {
            "image/png": "[encoded data removed]",
            "text/plain": [
              "<Figure size 720x720 with 1 Axes>"
            ]
          },
          "metadata": {
            "tags": [],
            "needs_background": "light"
          }
        },
        {
          "output_type": "execute_result",
          "data": {
            "text/plain": [
              "<matplotlib.collections.PathCollection at 0x7f1dae1ba190>"
            ]
          },
          "metadata": {
            "tags": []
          },
          "execution_count": 12
        },
        {
          "output_type": "display_data",
          "data": {
            "image/png": "[encoded data removed]",
            "text/plain": [
              "<Figure size 432x288 with 1 Axes>"
            ]
          },
          "metadata": {
            "tags": [],
            "needs_background": "light"
          }
        }
      ]
    },
    {
      "cell_type": "code",
      "metadata": {
        "id": "-revRwSLj7ex"
      },
      "source": [
        "import numpy as np\n",
        "fish_length = [25.4, 26.3, 26.5, 29.0, 29.0, 29.7, 29.7, 30.0, 30.0, 30.7, 31.0, 31.0, 31.5, 32.0, 32.0, 32.0, 33.0, 33.0, 33.5, 33.5, 34.0, 34.0, 34.5, 35.0, 35.0, 35.0, 35.0, 36.0, 36.0, 37.0, 38.5, 38.5, 39.5, 41.0, 41.0, 9.8, 10.5, 10.6, 11.0, 11.2, 11.3, 11.8, 11.8, 12.0, 12.2, 12.4, 13.0, 14.3, 15.0]\n",
        "fish_weight = [242.0, 290.0, 340.0, 363.0, 430.0, 450.0, 500.0, 390.0, 450.0, 500.0, 475.0, 500.0, 500.0, 340.0, 600.0, 600.0, 700.0, 700.0, 610.0, 650.0, 575.0, 685.0, 620.0, 680.0, 700.0, 725.0, 720.0, 714.0, 850.0, 1000.0, 920.0, 955.0, 925.0, 975.0, 950.0, 6.7, 7.5, 7.0, 9.7, 9.8, 8.7, 10.0, 9.9, 9.8, 12.2, 13.4, 12.2, 19.7, 19.9]\n",
        "fish_data = np.column_stack((fish_length, fish_weight))\n",
        "fish_target = np.concatenate((np.ones(35),np.zeros(14)))\n"
      ],
      "execution_count": null,
      "outputs": []
    },
    {
      "cell_type": "markdown",
      "metadata": {
        "id": "soP-nfCCj-Eg"
      },
      "source": [
        "np.column_stack : 가로와 세로의 길이 문제를 해결\n"
      ]
    },
    {
      "cell_type": "code",
      "metadata": {
        "id": "u9zHOB1_kF9n"
      },
      "source": [
        "from sklearn.model_selection import train_test_split\n",
        "\n",
        "train_input, test_input, train_target, test_target = train_test_split(fish_data, fish_target, random_state=42)\n"
      ],
      "execution_count": null,
      "outputs": []
    },
    {
      "cell_type": "markdown",
      "metadata": {
        "id": "RP4q_NG3kGU3"
      },
      "source": [
        "Normalization - scale이 다른 x축/y축에 대한 변경"
      ]
    },
    {
      "cell_type": "code",
      "metadata": {
        "id": "rz90Z0TlknwB"
      },
      "source": [
        "mean = np.mean(train_input, axis=0)\n",
        "std = np.std(train_input, axis=0)\n"
      ],
      "execution_count": null,
      "outputs": []
    },
    {
      "cell_type": "markdown",
      "metadata": {
        "id": "2hMJsyDYkphY"
      },
      "source": [
        "표준편차와 평균"
      ]
    },
    {
      "cell_type": "code",
      "metadata": {
        "colab": {
          "base_uri": "https://localhost:8080/"
        },
        "id": "fhjsAD4xkssf",
        "outputId": "df225d06-4ff7-4a5a-8683-e00626bcf9bc"
      },
      "source": [
        "train_scaled = (train_input - mean)/std\n",
        "from sklearn.neighbors import KNeighborsClassifier\n",
        "kn = KNeighborsClassifier()\n",
        "kn.fit(train_scaled, train_target)\n",
        "\n",
        "new = ([25, 150]-mean)/std\n",
        "distances, indexes = kn.kneighbors([new])\n",
        "\n",
        "test_scaled = (test_input - mean)/std\n",
        "kn.score(test_scaled, test_target)\n"
      ],
      "execution_count": null,
      "outputs": [
        {
          "output_type": "execute_result",
          "data": {
            "text/plain": [
              "1.0"
            ]
          },
          "metadata": {
            "tags": []
          },
          "execution_count": 19
        }
      ]
    },
    {
      "cell_type": "code",
      "metadata": {
        "colab": {
          "base_uri": "https://localhost:8080/",
          "height": 279
        },
        "id": "VHPmTw6MkwiI",
        "outputId": "9b234603-6aa8-49e1-fc62-6c81c50ccf0b"
      },
      "source": [
        "new = ([25, 150]-mean)/std\n",
        "distances, indexes = kn.kneighbors([new])\n",
        "plt.scatter(train_scaled[:,0], train_scaled[:,1])\n",
        "plt.scatter(new[0], new[1], marker='^')\n",
        "plt.scatter(train_scaled[indexes[0][0],0], train_scaled[indexes[0][0],1], marker='D', color='red')\n",
        "plt.scatter(train_scaled[indexes[0][1],0], train_scaled[indexes[0][1],1], marker='D', color='orange')\n",
        "plt.scatter(train_scaled[indexes[0][2],0], train_scaled[indexes[0][2],1], marker='D', color='purple')\n",
        "plt.scatter(train_scaled[indexes[0][3],0], train_scaled[indexes[0][3],1], marker='D', color='green')\n",
        "plt.scatter(train_scaled[indexes[0][4],0], train_scaled[indexes[0][4],1], marker='D', color='black')\n",
        "plt.xlabel('length')\n",
        "plt.ylabel('weight')\n",
        "plt.show()\n"
      ],
      "execution_count": null,
      "outputs": [
        {
          "output_type": "display_data",
          "data": {
            "image/png": "[encoded data removed]",
            "text/plain": [
              "<Figure size 432x288 with 1 Axes>"
            ]
          },
          "metadata": {
            "tags": [],
            "needs_background": "light"
          }
        }
      ]
    },
    {
      "cell_type": "markdown",
      "metadata": {
        "id": "xT9jrLtjkxIW"
      },
      "source": [
        "<h1> Standard Deviation 1 </h1>"
      ]
    },
    {
      "cell_type": "code",
      "metadata": {
        "colab": {
          "base_uri": "https://localhost:8080/",
          "height": 279
        },
        "id": "c5Zifyk1k5CZ",
        "outputId": "95cb577a-96a1-4338-f4f5-3e61c45fba8c"
      },
      "source": [
        "from sklearn.model_selection import train_test_split\n",
        "\n",
        "train_input, test_input, train_target, test_target = train_test_split(fish_data, fish_target, stratify=fish_target, random_state=42)\n",
        "\n",
        "from sklearn.preprocessing import StandardScaler\n",
        "scaler = StandardScaler()\n",
        "input_scaled = scaler.fit_transform(train_input)\n",
        "test_scaled = scaler.transform(test_input)\n",
        "\n",
        "from sklearn.neighbors import KNeighborsClassifier\n",
        "kn = KNeighborsClassifier()\n",
        "kn.fit(input_scaled, train_target)\n",
        "\n",
        "new = scaler.transform([[25,150]])\n",
        "distances, indexes = kn.kneighbors(new)\n",
        "plt.scatter(input_scaled[:,0], input_scaled[:,1])\n",
        "plt.scatter(new[0][0], new[0][1], marker='^')\n",
        "plt.scatter(input_scaled[indexes[0][0],0], input_scaled[indexes[0][0],1], marker='D', color='red')\n",
        "plt.scatter(input_scaled[indexes[0][1],0], input_scaled[indexes[0][1],1], marker='D', color='orange')\n",
        "plt.scatter(input_scaled[indexes[0][2],0], input_scaled[indexes[0][2],1], marker='D', color='purple')\n",
        "plt.scatter(input_scaled[indexes[0][3],0], input_scaled[indexes[0][3],1], marker='D', color='green')\n",
        "plt.scatter(input_scaled[indexes[0][4],0], input_scaled[indexes[0][4],1], marker='D', color='black')\n",
        "plt.xlabel('length')\n",
        "plt.ylabel('weight')\n",
        "plt.show()\n",
        "\n"
      ],
      "execution_count": null,
      "outputs": [
        {
          "output_type": "display_data",
          "data": {
            "image/png": "[encoded data removed]",
            "text/plain": [
              "<Figure size 432x288 with 1 Axes>"
            ]
          },
          "metadata": {
            "tags": [],
            "needs_background": "light"
          }
        }
      ]
    },
    {
      "cell_type": "markdown",
      "metadata": {
        "id": "Bg3MJ60zk5g4"
      },
      "source": [
        "<h1> Standard Deviation Method 2 </h1>\n"
      ]
    },
    {
      "cell_type": "code",
      "metadata": {
        "colab": {
          "base_uri": "https://localhost:8080/"
        },
        "id": "BzjDxvwwlxTJ",
        "outputId": "1839f1f2-5acb-4b15-e8f7-f95b6f2ab096"
      },
      "source": [
        "from sklearn.model_selection import train_test_split\n",
        "\n",
        "train_input, test_input, train_target, test_target = train_test_split(fish_data, fish_target, stratify=fish_target, random_state=42)\n",
        "\n",
        "from sklearn.preprocessing import MinMaxScaler\n",
        "scaler = MinMaxScaler()\n",
        "input_scaled = scaler.fit_transform(train_input)\n",
        "test_scaled = scaler.transform(test_input)\n",
        "\n",
        "from sklearn.neighbors import KNeighborsClassifier\n",
        "kn = KNeighborsClassifier()\n",
        "kn.fit(input_scaled, train_target)\n",
        "\n"
      ],
      "execution_count": null,
      "outputs": [
        {
          "output_type": "execute_result",
          "data": {
            "text/plain": [
              "KNeighborsClassifier(algorithm='auto', leaf_size=30, metric='minkowski',\n",
              "                     metric_params=None, n_jobs=None, n_neighbors=5, p=2,\n",
              "                     weights='uniform')"
            ]
          },
          "metadata": {
            "tags": []
          },
          "execution_count": 26
        }
      ]
    },
    {
      "cell_type": "markdown",
      "metadata": {
        "id": "NIYTMd6gl2A_"
      },
      "source": [
        "<h1> min-max method </h1>\n"
      ]
    },
    {
      "cell_type": "code",
      "metadata": {
        "colab": {
          "base_uri": "https://localhost:8080/",
          "height": 279
        },
        "id": "1f7i82QMl4mZ",
        "outputId": "e212bdf1-b180-49a4-d7d2-61f585e54a74"
      },
      "source": [
        "new = scaler.transform([[25,150]])\n",
        "distances, indexes = kn.kneighbors(new)\n",
        "plt.scatter(input_scaled[:,0], input_scaled[:,1])\n",
        "plt.scatter(new[0][0], new[0][1], marker='^')\n",
        "plt.scatter(input_scaled[indexes[0][0],0], input_scaled[indexes[0][0],1], marker='D', color='red')\n",
        "plt.scatter(input_scaled[indexes[0][1],0], input_scaled[indexes[0][1],1], marker='D', color='orange')\n",
        "plt.scatter(input_scaled[indexes[0][2],0], input_scaled[indexes[0][2],1], marker='D', color='purple')\n",
        "plt.scatter(input_scaled[indexes[0][3],0], input_scaled[indexes[0][3],1], marker='D', color='green')\n",
        "plt.scatter(input_scaled[indexes[0][4],0], input_scaled[indexes[0][4],1], marker='D', color='black')\n",
        "plt.xlabel('length')\n",
        "plt.ylabel('weight')\n",
        "plt.show()\n"
      ],
      "execution_count": null,
      "outputs": [
        {
          "output_type": "display_data",
          "data": {
            "image/png": "[encoded data removed]",
            "text/plain": [
              "<Figure size 432x288 with 1 Axes>"
            ]
          },
          "metadata": {
            "tags": [],
            "needs_background": "light"
          }
        }
      ]
    }
  ]
}